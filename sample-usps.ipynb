{
 "cells": [
  {
   "cell_type": "markdown",
   "metadata": {},
   "source": [
    "# Unsupervised Feature Selection for the USPS handwritten Dataset\n",
    "\n",
    "H. Huang, et al., \"**Unsupervised Feature Selection on Data Streams**,\" Proc. of CIKM 2015, pp. 1031-1040, Oct. 2015."
   ]
  },
  {
   "cell_type": "code",
   "execution_count": 1,
   "metadata": {
    "collapsed": true
   },
   "outputs": [],
   "source": [
    "import numpy as np\n",
    "import numpy.linalg as ln\n",
    "import pandas as pd\n",
    "import sklearn.metrics as met\n",
    "import time\n",
    "\n",
    "%matplotlib inline\n",
    "import matplotlib.pyplot as plt"
   ]
  },
  {
   "cell_type": "code",
   "execution_count": 2,
   "metadata": {
    "collapsed": false
   },
   "outputs": [],
   "source": [
    "%load_ext autoreload\n",
    "%autoreload 2\n",
    "\n",
    "from stream_fast_weight import StreamFastWeight\n",
    "from gen_feat_weight import GenFeatWeight"
   ]
  },
  {
   "cell_type": "markdown",
   "metadata": {},
   "source": [
    "## Load data"
   ]
  },
  {
   "cell_type": "code",
   "execution_count": 3,
   "metadata": {
    "collapsed": false
   },
   "outputs": [
    {
     "data": {
      "text/plain": [
       "((256, 7291), (7291,))"
      ]
     },
     "execution_count": 3,
     "metadata": {},
     "output_type": "execute_result"
    }
   ],
   "source": [
    "# train\n",
    "with open('../../data/usps/zip.train') as f:\n",
    "    X_train = []\n",
    "    y_train = []\n",
    "    for line in f.readlines():\n",
    "        l = map(float, line.rstrip().split(' '))\n",
    "        y_train.append(l[0])\n",
    "        X_train.append(l[1:])\n",
    "    X_train = np.array(X_train).T\n",
    "    y_train = np.array(y_train).T\n",
    "X_train.shape, y_train.shape"
   ]
  },
  {
   "cell_type": "code",
   "execution_count": 4,
   "metadata": {
    "collapsed": false
   },
   "outputs": [
    {
     "data": {
      "text/plain": [
       "((256, 2007), (2007,))"
      ]
     },
     "execution_count": 4,
     "metadata": {},
     "output_type": "execute_result"
    }
   ],
   "source": [
    "# test\n",
    "with open('../../data/usps/zip.test') as f:\n",
    "    X_test = []\n",
    "    y_test = []\n",
    "    for line in f.readlines():\n",
    "        l = map(float, line.rstrip().split(' '))\n",
    "        y_test.append(l[0])\n",
    "        X_test.append(l[1:])\n",
    "    X_test = np.array(X_test).T\n",
    "    y_test = np.array(y_test).T\n",
    "X_test.shape, y_test.shape"
   ]
  },
  {
   "cell_type": "code",
   "execution_count": 5,
   "metadata": {
    "collapsed": false
   },
   "outputs": [
    {
     "data": {
      "text/plain": [
       "((256, 9298), (9298,))"
      ]
     },
     "execution_count": 5,
     "metadata": {},
     "output_type": "execute_result"
    }
   ],
   "source": [
    "# merge train and test\n",
    "X = np.hstack((X_train, X_test))\n",
    "y = np.hstack((y_train, y_test))\n",
    "X.shape, y.shape"
   ]
  },
  {
   "cell_type": "markdown",
   "metadata": {},
   "source": [
    "## Import libraries for evaluation and check the baseline"
   ]
  },
  {
   "cell_type": "code",
   "execution_count": 6,
   "metadata": {
    "collapsed": true
   },
   "outputs": [],
   "source": [
    "from sklearn.cluster import KMeans\n",
    "from sklearn.metrics.cluster import normalized_mutual_info_score"
   ]
  },
  {
   "cell_type": "code",
   "execution_count": 7,
   "metadata": {
    "collapsed": false
   },
   "outputs": [
    {
     "data": {
      "text/plain": [
       "0.62508382431293497"
      ]
     },
     "execution_count": 7,
     "metadata": {},
     "output_type": "execute_result"
    }
   ],
   "source": [
    "# baseline\n",
    "y_pred = KMeans(n_clusters=10).fit_predict(X.T) # shape=(n_sample, n_feature)\n",
    "normalized_mutual_info_score(y, y_pred)"
   ]
  },
  {
   "cell_type": "markdown",
   "metadata": {},
   "source": [
    "## Run prototype algorithm for feature weighting (Alg. 1)\n",
    "\n",
    "*this is not sketching method; inputed matrices are stacked internaly.*"
   ]
  },
  {
   "cell_type": "code",
   "execution_count": 8,
   "metadata": {
    "collapsed": true
   },
   "outputs": [],
   "source": [
    "nt = 1000\n",
    "alg1 = GenFeatWeight(X.shape[0], k=10) # initialize"
   ]
  },
  {
   "cell_type": "code",
   "execution_count": 9,
   "metadata": {
    "collapsed": false
   },
   "outputs": [
    {
     "data": {
      "text/html": [
       "<div>\n",
       "<table border=\"1\" class=\"dataframe\">\n",
       "  <thead>\n",
       "    <tr style=\"text-align: right;\">\n",
       "      <th></th>\n",
       "      <th>n_features</th>\n",
       "      <th>NMI</th>\n",
       "      <th>time_sec</th>\n",
       "    </tr>\n",
       "  </thead>\n",
       "  <tbody>\n",
       "    <tr>\n",
       "      <th>0</th>\n",
       "      <td>25</td>\n",
       "      <td>0.405653</td>\n",
       "      <td>9.173374</td>\n",
       "    </tr>\n",
       "    <tr>\n",
       "      <th>1</th>\n",
       "      <td>50</td>\n",
       "      <td>0.520081</td>\n",
       "      <td>24.586265</td>\n",
       "    </tr>\n",
       "    <tr>\n",
       "      <th>2</th>\n",
       "      <td>75</td>\n",
       "      <td>0.551276</td>\n",
       "      <td>39.595395</td>\n",
       "    </tr>\n",
       "    <tr>\n",
       "      <th>3</th>\n",
       "      <td>100</td>\n",
       "      <td>0.569203</td>\n",
       "      <td>54.583825</td>\n",
       "    </tr>\n",
       "    <tr>\n",
       "      <th>4</th>\n",
       "      <td>125</td>\n",
       "      <td>0.603090</td>\n",
       "      <td>70.261307</td>\n",
       "    </tr>\n",
       "    <tr>\n",
       "      <th>5</th>\n",
       "      <td>150</td>\n",
       "      <td>0.615642</td>\n",
       "      <td>85.809544</td>\n",
       "    </tr>\n",
       "    <tr>\n",
       "      <th>6</th>\n",
       "      <td>175</td>\n",
       "      <td>0.632129</td>\n",
       "      <td>101.707525</td>\n",
       "    </tr>\n",
       "    <tr>\n",
       "      <th>7</th>\n",
       "      <td>200</td>\n",
       "      <td>0.626509</td>\n",
       "      <td>116.845065</td>\n",
       "    </tr>\n",
       "  </tbody>\n",
       "</table>\n",
       "</div>"
      ],
      "text/plain": [
       "   n_features       NMI    time_sec\n",
       "0          25  0.405653    9.173374\n",
       "1          50  0.520081   24.586265\n",
       "2          75  0.551276   39.595395\n",
       "3         100  0.569203   54.583825\n",
       "4         125  0.603090   70.261307\n",
       "5         150  0.615642   85.809544\n",
       "6         175  0.632129  101.707525\n",
       "7         200  0.626509  116.845065"
      ]
     },
     "execution_count": 9,
     "metadata": {},
     "output_type": "execute_result"
    }
   ],
   "source": [
    "result = []\n",
    "\n",
    "# compute NMIs for different selected feature size\n",
    "for n_features in range(25, 201, 25):\n",
    "    \n",
    "    start = time.clock()\n",
    "    for head in xrange(0, X.shape[1], nt): # each time step\n",
    "        scores = alg1.update(X[:, head:head+nt])\n",
    "    end = time.clock()\n",
    "    \n",
    "    # selected top-n features at the final step\n",
    "    selected_idx = np.argsort(scores)[::-1][:n_features]\n",
    "    \n",
    "    y_pred = KMeans(n_clusters=10).fit_predict(X[selected_idx,:].T)\n",
    "    NMI = normalized_mutual_info_score(y, y_pred)\n",
    "    result.append([n_features, NMI, end-start])\n",
    "\n",
    "alg1_result = pd.DataFrame(result, columns=['n_features', 'NMI', 'time_sec'])\n",
    "alg1_result"
   ]
  },
  {
   "cell_type": "markdown",
   "metadata": {},
   "source": [
    "## Run fast streaming algorithm for feature weighting (Alg. 2)"
   ]
  },
  {
   "cell_type": "code",
   "execution_count": 10,
   "metadata": {
    "collapsed": false
   },
   "outputs": [],
   "source": [
    "nt = 1000\n",
    "alg2 = StreamFastWeight(X.shape[0], k=10)"
   ]
  },
  {
   "cell_type": "code",
   "execution_count": 11,
   "metadata": {
    "collapsed": false
   },
   "outputs": [
    {
     "data": {
      "text/html": [
       "<div>\n",
       "<table border=\"1\" class=\"dataframe\">\n",
       "  <thead>\n",
       "    <tr style=\"text-align: right;\">\n",
       "      <th></th>\n",
       "      <th>n_features</th>\n",
       "      <th>NMI</th>\n",
       "      <th>time_sec</th>\n",
       "    </tr>\n",
       "  </thead>\n",
       "  <tbody>\n",
       "    <tr>\n",
       "      <th>0</th>\n",
       "      <td>25</td>\n",
       "      <td>0.409419</td>\n",
       "      <td>1.037534</td>\n",
       "    </tr>\n",
       "    <tr>\n",
       "      <th>1</th>\n",
       "      <td>50</td>\n",
       "      <td>0.528266</td>\n",
       "      <td>1.036338</td>\n",
       "    </tr>\n",
       "    <tr>\n",
       "      <th>2</th>\n",
       "      <td>75</td>\n",
       "      <td>0.542419</td>\n",
       "      <td>1.035008</td>\n",
       "    </tr>\n",
       "    <tr>\n",
       "      <th>3</th>\n",
       "      <td>100</td>\n",
       "      <td>0.585669</td>\n",
       "      <td>1.036351</td>\n",
       "    </tr>\n",
       "    <tr>\n",
       "      <th>4</th>\n",
       "      <td>125</td>\n",
       "      <td>0.596422</td>\n",
       "      <td>1.033633</td>\n",
       "    </tr>\n",
       "    <tr>\n",
       "      <th>5</th>\n",
       "      <td>150</td>\n",
       "      <td>0.615835</td>\n",
       "      <td>1.023445</td>\n",
       "    </tr>\n",
       "    <tr>\n",
       "      <th>6</th>\n",
       "      <td>175</td>\n",
       "      <td>0.629191</td>\n",
       "      <td>1.029916</td>\n",
       "    </tr>\n",
       "    <tr>\n",
       "      <th>7</th>\n",
       "      <td>200</td>\n",
       "      <td>0.622998</td>\n",
       "      <td>1.021629</td>\n",
       "    </tr>\n",
       "  </tbody>\n",
       "</table>\n",
       "</div>"
      ],
      "text/plain": [
       "   n_features       NMI  time_sec\n",
       "0          25  0.409419  1.037534\n",
       "1          50  0.528266  1.036338\n",
       "2          75  0.542419  1.035008\n",
       "3         100  0.585669  1.036351\n",
       "4         125  0.596422  1.033633\n",
       "5         150  0.615835  1.023445\n",
       "6         175  0.629191  1.029916\n",
       "7         200  0.622998  1.021629"
      ]
     },
     "execution_count": 11,
     "metadata": {},
     "output_type": "execute_result"
    }
   ],
   "source": [
    "result = []\n",
    "\n",
    "# compute NMIs for different selected feature size\n",
    "for n_features in range(25, 201, 25):\n",
    "    \n",
    "    start = time.clock()\n",
    "    for head in xrange(0, X.shape[1], nt): # each time step\n",
    "        scores = alg2.update(X[:, head:head+nt])\n",
    "    end = time.clock()\n",
    "    \n",
    "    # selected top-n features at the final step\n",
    "    selected_idx = np.argsort(scores)[::-1][:n_features]\n",
    "    \n",
    "    y_pred = KMeans(n_clusters=10).fit_predict(X[selected_idx,:].T)\n",
    "    NMI = normalized_mutual_info_score(y, y_pred)\n",
    "    result.append([n_features, NMI, end-start])\n",
    "\n",
    "alg2_result = pd.DataFrame(result, columns=['n_features', 'NMI', 'time_sec'])\n",
    "alg2_result"
   ]
  },
  {
   "cell_type": "markdown",
   "metadata": {},
   "source": [
    "## Plot the result"
   ]
  },
  {
   "cell_type": "code",
   "execution_count": 12,
   "metadata": {
    "collapsed": false
   },
   "outputs": [
    {
     "data": {
      "image/png": "[encoded data removed]",
      "text/plain": [
       "<matplotlib.figure.Figure at 0x111edf850>"
      ]
     },
     "metadata": {},
     "output_type": "display_data"
    }
   ],
   "source": [
    "df = pd.DataFrame(np.vstack((np.array(alg1_result['NMI']), np.array(alg2_result['NMI']))).T, columns=['Alg. 1 (exact)', 'Alg. 2 (stream)'])\n",
    "ax = df.plot()\n",
    "ax.grid()\n",
    "ax.set_xlabel('Number of selected features')\n",
    "ax.set_ylabel('NMI')\n",
    "ax.set_xticklabels(range(25, 201, 25));"
   ]
  },
  {
   "cell_type": "code",
   "execution_count": 13,
   "metadata": {
    "collapsed": false
   },
   "outputs": [
    {
     "data": {
      "image/png": "[encoded data removed]",
      "text/plain": [
       "<matplotlib.figure.Figure at 0x111edf750>"
      ]
     },
     "metadata": {},
     "output_type": "display_data"
    }
   ],
   "source": [
    "df = pd.DataFrame(np.vstack((np.array(alg1_result['time_sec']), np.array(alg2_result['time_sec']))).T, columns=['Alg. 1 (exact)', 'Alg. 2 (stream)'])\n",
    "ax = df.plot()\n",
    "ax.grid()\n",
    "ax.set_xlabel('Number of selected features')\n",
    "ax.set_ylabel('NMI')\n",
    "ax.set_xticklabels(range(25, 201, 25));"
   ]
  },
  {
   "cell_type": "code",
   "execution_count": null,
   "metadata": {
    "collapsed": true
   },
   "outputs": [],
   "source": []
  }
 ],
 "metadata": {
  "kernelspec": {
   "display_name": "Python 2",
   "language": "python",
   "name": "python2"
  },
  "language_info": {
   "codemirror_mode": {
    "name": "ipython",
    "version": 2
   },
   "file_extension": ".py",
   "mimetype": "text/x-python",
   "name": "python",
   "nbconvert_exporter": "python",
   "pygments_lexer": "ipython2",
   "version": "2.7.11"
  }
 },
 "nbformat": 4,
 "nbformat_minor": 0
}
